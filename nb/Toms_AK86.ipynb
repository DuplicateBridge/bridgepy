{
 "cells": [
  {
   "cell_type": "markdown",
   "id": "f8dc483d-26a6-4727-a3ff-e523bf183f64",
   "metadata": {},
   "source": [
    "# Tom's AK86 with J97\n",
    "\n",
    "## Wanting 3 tricks\n",
    "\n",
    "## Gavin played for the Q to drop singleton or doubleton\n",
    "\n",
    "## Tom prefers the double finesse"
   ]
  },
  {
   "cell_type": "code",
   "execution_count": 2,
   "id": "703099ab-cfa3-4333-b9eb-d348d0ac5bba",
   "metadata": {
    "tags": []
   },
   "outputs": [],
   "source": [
    "# imports\n",
    "from importlib import reload\n",
    "import numpy as np\n",
    "\n",
    "import seaborn as sns\n",
    "import pandas\n",
    "\n",
    "from bridgepy import deals, assess"
   ]
  },
  {
   "cell_type": "markdown",
   "id": "1b695eb0-b482-41dc-8666-37b3e390d633",
   "metadata": {},
   "source": [
    "# Build the hands"
   ]
  },
  {
   "cell_type": "code",
   "execution_count": 3,
   "id": "17046c2b-986d-4638-8e38-696c4f26a578",
   "metadata": {
    "tags": []
   },
   "outputs": [],
   "source": [
    "Ndeals = 50000 # Number of hands to build"
   ]
  },
  {
   "cell_type": "markdown",
   "id": "a69a92f2-fec7-438a-aa51-f98cd17e3dbe",
   "metadata": {},
   "source": [
    "## Constraints"
   ]
  },
  {
   "cell_type": "code",
   "execution_count": 4,
   "id": "3b3f325c-3d35-45c9-9669-95f8bfb2586f",
   "metadata": {
    "tags": []
   },
   "outputs": [],
   "source": [
    "missing = [2,3,4,5,10,12]  # Q = 12\n",
    "N1 = (0,6) # Possible number of cards in hand 1\n",
    "N2 = (0,6) "
   ]
  },
  {
   "cell_type": "markdown",
   "id": "18afc120-0ef1-4a0d-badd-311f764fb361",
   "metadata": {},
   "source": [
    "## Do it"
   ]
  },
  {
   "cell_type": "code",
   "execution_count": 5,
   "id": "c3856f73-292c-42d0-a40a-a8a3dd87709e",
   "metadata": {
    "tags": []
   },
   "outputs": [
    {
     "data": {
      "text/plain": [
       "(50000, 6)"
      ]
     },
     "execution_count": 5,
     "metadata": {},
     "output_type": "execute_result"
    }
   ],
   "source": [
    "# Shuffle them 10000 times\n",
    "r = [np.random.permutation(missing) for i in range(Ndeals)]\n",
    "r = np.array(r)\n",
    "r.shape"
   ]
  },
  {
   "cell_type": "code",
   "execution_count": 6,
   "id": "87c9ce65-9251-4960-8656-4cc83b3310ec",
   "metadata": {
    "tags": []
   },
   "outputs": [
    {
     "data": {
      "text/plain": [
       "array([[12,  5,  2, 10,  3,  4],\n",
       "       [12, 10,  4,  5,  3,  2],\n",
       "       [ 2,  4,  5, 12, 10,  3],\n",
       "       ...,\n",
       "       [10,  4,  3,  5,  2, 12],\n",
       "       [ 5,  2, 10,  4,  3, 12],\n",
       "       [ 5, 10,  4,  3,  2, 12]])"
      ]
     },
     "execution_count": 6,
     "metadata": {},
     "output_type": "execute_result"
    }
   ],
   "source": [
    "r"
   ]
  },
  {
   "cell_type": "markdown",
   "id": "4678093f-1464-42f6-97a6-880202ab0c2f",
   "metadata": {
    "tags": []
   },
   "source": [
    "## Get the hand distribution"
   ]
  },
  {
   "cell_type": "markdown",
   "id": "83c7c97a-16f7-4bd1-93d8-45f1a023c587",
   "metadata": {},
   "source": [
    "### Probabilities"
   ]
  },
  {
   "cell_type": "code",
   "execution_count": 7,
   "id": "09283bcc-bfea-4f0c-83d0-ce3f8cc3f2e0",
   "metadata": {
    "tags": []
   },
   "outputs": [
    {
     "data": {
      "text/plain": [
       "([0, 1, 2, 3, 4, 5, 6],\n",
       " [0.007453416149068322,\n",
       "  0.07267080745341616,\n",
       "  0.24223602484472048,\n",
       "  0.3552795031055901,\n",
       "  0.24223602484472048,\n",
       "  0.07267080745341616,\n",
       "  0.007453416149068322])"
      ]
     },
     "execution_count": 7,
     "metadata": {},
     "output_type": "execute_result"
    }
   ],
   "source": [
    "reload(deals)\n",
    "ncards, probs = deals.all_probs(6)\n",
    "ncards, probs"
   ]
  },
  {
   "cell_type": "code",
   "execution_count": 8,
   "id": "9c43ef67-f45c-4c5a-84d4-866f189258fd",
   "metadata": {
    "tags": []
   },
   "outputs": [
    {
     "data": {
      "text/plain": [
       "array([0.00745342, 0.08012422, 0.32236025, 0.67763975, 0.91987578,\n",
       "       0.99254658, 1.        ])"
      ]
     },
     "execution_count": 8,
     "metadata": {},
     "output_type": "execute_result"
    }
   ],
   "source": [
    "cum_probs = np.cumsum(probs)\n",
    "cum_probs"
   ]
  },
  {
   "cell_type": "markdown",
   "id": "e089c8f0-fa85-4228-9004-51dcd580d5af",
   "metadata": {},
   "source": [
    "## Random distributions"
   ]
  },
  {
   "cell_type": "code",
   "execution_count": 9,
   "id": "70b69fce-b0d0-4a78-85ff-f4e25008aed5",
   "metadata": {
    "tags": []
   },
   "outputs": [
    {
     "data": {
      "text/plain": [
       "array([2, 2, 3, ..., 4, 2, 2])"
      ]
     },
     "execution_count": 9,
     "metadata": {},
     "output_type": "execute_result"
    }
   ],
   "source": [
    "reload(deals)\n",
    "r_n1 = deals.random_ncards(6, Ndeals)\n",
    "r_n1"
   ]
  },
  {
   "cell_type": "markdown",
   "id": "17c11fe4-f651-462b-af7a-2fa788fd3471",
   "metadata": {},
   "source": [
    "### Plot"
   ]
  },
  {
   "cell_type": "code",
   "execution_count": 10,
   "id": "b0ab3b9a-3000-475c-b4b3-3aee1b4f1121",
   "metadata": {
    "tags": []
   },
   "outputs": [
    {
     "data": {
      "text/plain": [
       "<Axes: >"
      ]
     },
     "execution_count": 10,
     "metadata": {},
     "output_type": "execute_result"
    },
    {
     "data": {
      "image/png": "[encoded data removed]",
      "text/plain": [
       "<Figure size 640x480 with 1 Axes>"
      ]
     },
     "metadata": {},
     "output_type": "display_data"
    }
   ],
   "source": [
    "df = pandas.DataFrame()\n",
    "df['n1'] = r_n1\n",
    "bin_edges = np.arange(-0.5, 7.5, 1)\n",
    "df.n1.hist(bins=bin_edges)"
   ]
  },
  {
   "cell_type": "markdown",
   "id": "b2f84df4-a242-4a88-b638-928e8b888d0c",
   "metadata": {},
   "source": [
    "# Time to assess!"
   ]
  },
  {
   "cell_type": "markdown",
   "id": "af89a507-494a-46ad-9763-0b2f80ca83e3",
   "metadata": {},
   "source": [
    "## Gavin"
   ]
  },
  {
   "cell_type": "code",
   "execution_count": 11,
   "id": "c9f91963-70e2-470e-975a-034047561f77",
   "metadata": {
    "tags": []
   },
   "outputs": [],
   "source": [
    "# Slice\n",
    "gd1 = (r_n1 <= 2) & (r_n1 > 0)\n",
    "gd2 = ((6-r_n1) <= 2) & (6-r_n1 > 0)\n",
    "\n",
    "h1 = []\n",
    "for i1 in np.where(gd1)[0]:\n",
    "    h1.append(r[i1,0:r_n1[i1]])\n",
    "h2 = []\n",
    "for i2 in np.where(gd2)[0]:\n",
    "    h2.append(r[i2,r_n1[i2]:])"
   ]
  },
  {
   "cell_type": "code",
   "execution_count": 12,
   "id": "2a10721d-d079-4af9-8851-65b913ac15ed",
   "metadata": {
    "tags": []
   },
   "outputs": [
    {
     "data": {
      "text/plain": [
       "0.18646"
      ]
     },
     "execution_count": 12,
     "metadata": {},
     "output_type": "execute_result"
    }
   ],
   "source": [
    "# Query\n",
    "G1 = [12 in ih1 for ih1 in h1]\n",
    "G2 = [12 in ih2 for ih2 in h2]\n",
    "N_Gavin = np.sum(G1) + np.sum(G2)\n",
    "P_Gavin = N_Gavin / Ndeals\n",
    "P_Gavin"
   ]
  },
  {
   "cell_type": "markdown",
   "id": "89e3bce5-a3bb-408b-9520-dc424bf522ae",
   "metadata": {},
   "source": [
    "## Tom"
   ]
  },
  {
   "cell_type": "code",
   "execution_count": 13,
   "id": "8402fa68-2ae8-432f-bb52-d2f41ba4b8f4",
   "metadata": {
    "tags": []
   },
   "outputs": [
    {
     "data": {
      "text/plain": [
       "0.24136"
      ]
     },
     "execution_count": 13,
     "metadata": {},
     "output_type": "execute_result"
    }
   ],
   "source": [
    "h1 = []\n",
    "for ii in range(Ndeals):\n",
    "    h1.append(r[ii,0:r_n1[ii]])\n",
    "# Check\n",
    "Q_in = np.array([12 in ih1 for ih1 in h1])\n",
    "T_in = np.array([10 in ih1 for ih1 in h1])\n",
    "#\n",
    "both = Q_in & T_in\n",
    "P_Tom = np.sum(both)/Ndeals\n",
    "P_Tom"
   ]
  },
  {
   "cell_type": "code",
   "execution_count": null,
   "id": "6fa6b87f-cf94-4c0a-9007-02c383367273",
   "metadata": {},
   "outputs": [],
   "source": []
  },
  {
   "cell_type": "markdown",
   "id": "cce4a01a-2c27-41f2-b7c8-679ab91c550a",
   "metadata": {},
   "source": [
    "----"
   ]
  },
  {
   "cell_type": "markdown",
   "id": "0299a0ef-84ab-4653-a591-f0ad77c864ac",
   "metadata": {},
   "source": [
    "# Testing"
   ]
  },
  {
   "cell_type": "code",
   "execution_count": 80,
   "id": "48fb61b6-4376-47d7-bf38-7530c4698267",
   "metadata": {
    "tags": []
   },
   "outputs": [
    {
     "data": {
      "text/plain": [
       "0.24002"
      ]
     },
     "execution_count": 80,
     "metadata": {},
     "output_type": "execute_result"
    }
   ],
   "source": [
    "reload(assess)\n",
    "Q_qdict = assess.parse_query([12, 0, 52, 1])\n",
    "T_qdict = assess.parse_query([10, 0, 52, 1])\n",
    "Q_in_2 = assess.query_deals(r, r_n1, Q_qdict)\n",
    "T_in_2 = assess.query_deals(r, r_n1, T_qdict)\n",
    "np.sum(Q_in_2 & T_in_2) / Ndeals"
   ]
  },
  {
   "cell_type": "code",
   "execution_count": 83,
   "id": "6135bffe-80cb-4d9c-8564-8727b6866b3a",
   "metadata": {
    "tags": []
   },
   "outputs": [
    {
     "data": {
      "text/plain": [
       "12001"
      ]
     },
     "execution_count": 83,
     "metadata": {},
     "output_type": "execute_result"
    }
   ],
   "source": [
    "reload(assess)\n",
    "final = assess.test_deals(r, r_n1, [(12,0,52,1), (10,0,52,1)])\n",
    "np.sum(final)"
   ]
  },
  {
   "cell_type": "code",
   "execution_count": 74,
   "id": "f2edb135-9e47-4229-8b14-b32029ac2207",
   "metadata": {
    "tags": []
   },
   "outputs": [
    {
     "data": {
      "text/plain": [
       "{'card': 12, 'min_n': 0, 'max_n': 52, 'hand': 1}"
      ]
     },
     "execution_count": 74,
     "metadata": {},
     "output_type": "execute_result"
    }
   ],
   "source": [
    "qdict"
   ]
  },
  {
   "cell_type": "markdown",
   "id": "6da9e182-08b4-44a1-be26-e02bef5de11f",
   "metadata": {},
   "source": [
    "----"
   ]
  },
  {
   "cell_type": "markdown",
   "id": "54509be5-9a25-4839-bee8-6cd308d54249",
   "metadata": {},
   "source": [
    "## From Google's Bard"
   ]
  },
  {
   "cell_type": "code",
   "execution_count": 10,
   "id": "5cc4a552-5d76-4a74-b488-f9050184c572",
   "metadata": {
    "tags": []
   },
   "outputs": [],
   "source": [
    "import itertools\n",
    "\n",
    "def calculate_split_percentages(num_cards:int=6):\n",
    "    total_combinations = 2**num_cards  # Each card can go to either player\n",
    "    split_counts = {}\n",
    "    for split in itertools.product((0, 1), repeat=num_cards):  # Generate all possible splits\n",
    "        player1_count = sum(split)\n",
    "        player2_count = num_cards - player1_count\n",
    "        split_tuple = (player1_count, player2_count)\n",
    "        split_counts[split_tuple] = split_counts.get(split_tuple, 0) + 1\n",
    "\n",
    "    for split, count in split_counts.items():\n",
    "        percentage = (count / total_combinations) * 100\n",
    "        print(f\"{split[0]} cards for Player 1, {split[1]} cards for Player 2: {percentage:.2f}%\")\n",
    "\n",
    "#if __name__ == \"__main__\":\n",
    "#    num_cards = 6\n",
    "#    calculate_split_percentages(num_cards)\n"
   ]
  },
  {
   "cell_type": "code",
   "execution_count": 11,
   "id": "9919a40f-2989-4b09-af89-1ff22337e0f3",
   "metadata": {
    "tags": []
   },
   "outputs": [
    {
     "name": "stdout",
     "output_type": "stream",
     "text": [
      "0 cards for Player 1, 6 cards for Player 2: 1.56%\n",
      "1 cards for Player 1, 5 cards for Player 2: 9.38%\n",
      "2 cards for Player 1, 4 cards for Player 2: 23.44%\n",
      "3 cards for Player 1, 3 cards for Player 2: 31.25%\n",
      "4 cards for Player 1, 2 cards for Player 2: 23.44%\n",
      "5 cards for Player 1, 1 cards for Player 2: 9.38%\n",
      "6 cards for Player 1, 0 cards for Player 2: 1.56%\n"
     ]
    }
   ],
   "source": [
    "calculate_split_percentages()"
   ]
  },
  {
   "cell_type": "markdown",
   "id": "0ef55a7d-0f53-4ca2-9a80-17a900f96fc2",
   "metadata": {},
   "source": [
    "## This doesn't match what is online.."
   ]
  },
  {
   "cell_type": "markdown",
   "id": "2c56fe16-f69b-4b07-881c-d54f382e4226",
   "metadata": {},
   "source": [
    "## Vacant"
   ]
  },
  {
   "cell_type": "code",
   "execution_count": 12,
   "id": "1fcccafe-e8b5-4733-b59a-b6dd98a7815a",
   "metadata": {
    "tags": []
   },
   "outputs": [],
   "source": [
    "def vacant(n1, n2, ninit:tuple=(13,13)):\n",
    "    prob = 1.\n",
    "    ntot = n1 + n2\n",
    "    # Fill in hand 1\n",
    "    count1=0\n",
    "    while(count1 < n1):\n",
    "        prob *= (ninit[0]-count1) / (ninit[0]+ninit[1]-count1)\n",
    "        count1 += 1\n",
    "    # Now hand 2\n",
    "    count2=0\n",
    "    while(count2 < n2):\n",
    "        prob *= (ninit[1]-count2) / (ninit[0]+ninit[1]-count1-count2)\n",
    "        count2 += 1\n",
    "    # Return\n",
    "    return prob"
   ]
  },
  {
   "cell_type": "code",
   "execution_count": 13,
   "id": "6f774eba-80db-4a0e-9427-ec1fb3dd43ea",
   "metadata": {
    "tags": []
   },
   "outputs": [
    {
     "data": {
      "text/plain": [
       "0.10999999999999999"
      ]
     },
     "execution_count": 13,
     "metadata": {},
     "output_type": "execute_result"
    }
   ],
   "source": [
    "vacant(3,0)"
   ]
  },
  {
   "cell_type": "code",
   "execution_count": 14,
   "id": "905febe6-a547-4c4d-adb6-93019830f165",
   "metadata": {
    "tags": []
   },
   "outputs": [
    {
     "data": {
      "text/plain": [
       "0.06782608695652173"
      ]
     },
     "execution_count": 14,
     "metadata": {},
     "output_type": "execute_result"
    }
   ],
   "source": [
    "vacant(2,2)"
   ]
  },
  {
   "cell_type": "code",
   "execution_count": 19,
   "id": "826d1e09-744a-4708-b586-ade2e5be48e7",
   "metadata": {
    "tags": []
   },
   "outputs": [
    {
     "data": {
      "text/plain": [
       "1"
      ]
     },
     "execution_count": 19,
     "metadata": {},
     "output_type": "execute_result"
    }
   ],
   "source": [
    "factorial(0)"
   ]
  },
  {
   "cell_type": "code",
   "execution_count": 22,
   "id": "8d39d900-af9d-4932-b987-624f35969935",
   "metadata": {
    "tags": []
   },
   "outputs": [],
   "source": [
    "from math import factorial\n",
    "def Pab(a,b,nhands:tuple=(13,13)):\n",
    "    # First term\n",
    "    fter = factorial(a+b)/factorial(a)/factorial(b)\n",
    "    # Second term, numerator\n",
    "    num = factorial(nhands[0])*factorial(nhands[1])*factorial(nhands[0]+nhands[1]-a-b)\n",
    "    # Second term, denumerator\n",
    "    den = factorial(nhands[0]+nhands[1])*factorial(nhands[0]-a)*factorial(nhands[1]-b)\n",
    "    # Return\n",
    "    return fter * num / den"
   ]
  },
  {
   "cell_type": "code",
   "execution_count": 23,
   "id": "c056fea7-1dbd-4e3d-85d5-e3ab48203b1c",
   "metadata": {
    "tags": []
   },
   "outputs": [
    {
     "data": {
      "text/plain": [
       "0.11"
      ]
     },
     "execution_count": 23,
     "metadata": {},
     "output_type": "execute_result"
    }
   ],
   "source": [
    "Pab(3,0)"
   ]
  },
  {
   "cell_type": "code",
   "execution_count": 24,
   "id": "6ffb4966-83a9-4123-a25b-583c923c0b3d",
   "metadata": {
    "tags": []
   },
   "outputs": [
    {
     "data": {
      "text/plain": [
       "0.4069565217391304"
      ]
     },
     "execution_count": 24,
     "metadata": {},
     "output_type": "execute_result"
    }
   ],
   "source": [
    "Pab(2,2)"
   ]
  },
  {
   "cell_type": "code",
   "execution_count": null,
   "id": "70df4ba2-6e64-442d-b3fa-1fe7157cab64",
   "metadata": {},
   "outputs": [],
   "source": []
  }
 ],
 "metadata": {
  "kernelspec": {
   "display_name": "Python 3 (ipykernel)",
   "language": "python",
   "name": "python3"
  },
  "language_info": {
   "codemirror_mode": {
    "name": "ipython",
    "version": 3
   },
   "file_extension": ".py",
   "mimetype": "text/x-python",
   "name": "python",
   "nbconvert_exporter": "python",
   "pygments_lexer": "ipython3",
   "version": "3.10.12"
  }
 },
 "nbformat": 4,
 "nbformat_minor": 5
}
